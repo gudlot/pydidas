{
 "cells": [
  {
   "cell_type": "code",
   "execution_count": 1,
   "metadata": {},
   "outputs": [],
   "source": [
    "# This file is part of pydidas.\n",
    "#\n",
    "# Copyright 2023 - 2024, Helmholtz-Zentrum Hereon\n",
    "# SPDX-License-Identifier: GPL-3.0-only\n",
    "#\n",
    "# pydidas is free software: you can redistribute it and/or modify\n",
    "# it under the terms of the GNU General Public License version 3 as\n",
    "# published by the Free Software Foundation.\n",
    "#\n",
    "# Pydidas is distributed in the hope that it will be useful,\n",
    "# but WITHOUT ANY WARRANTY; without even the implied warranty of\n",
    "# MERCHANTABILITY or FITNESS FOR A PARTICULAR PURPOSE. See the\n",
    "# GNU General Public License for more details.\n",
    "#\n",
    "# You should have received a copy of the GNU General Public License\n",
    "# along with Pydidas. If not, see <http://www.gnu.org/licenses/>.\n",
    "\n",
    "\"\"\"\n",
    "The dataset module includes the Dataset subclasses of numpy.ndarray with additional\n",
    "embedded metadata.\n",
    "\"\"\"\n",
    "\n",
    "__author__ = \"Gudrun Lotze\"\n",
    "__copyright__ = \"Copyright 2024, Helmholtz-Zentrum Hereon\"\n",
    "__license__ = \"GPL-3.0-only\"\n",
    "__maintainer__ = \"Malte Storm, Gudrun Lotze\"\n",
    "__status__ = \"Development\""
   ]
  },
  {
   "cell_type": "code",
   "execution_count": 3,
   "metadata": {},
   "outputs": [],
   "source": [
    "import os\n",
    "import h5py as h5\n",
    "import matplotlib.pyplot as plt\n",
    "import numpy as np\n",
    "from matplotlib.colors import LogNorm\n",
    "import matplotlib.cm as cm\n",
    "from scipy.optimize import curve_fit\n",
    "from pydidas.core import Dataset\n",
    "from pydidas.data_io import import_data\n",
    "%matplotlib inline\n",
    "\n",
    "from scipy.sparse import csr_matrix\n",
    "from scipy.sparse.csgraph import connected_components\n",
    "\n",
    "\n",
    "import importlib\n",
    "\n",
    "fname = '/Users/lotzegud/pydidas/pydidas_plugins/proc_plugins/sin2chi.py'\n",
    "\n",
    "spec = importlib.util.spec_from_file_location('sin2psi', fname)\n",
    "s2c_module = importlib.util.module_from_spec(spec)\n",
    "spec.loader.exec_module(s2c_module)\n",
    "\n",
    "\n",
    "#vielleicht bessere Namen fuer die Funktionen benutzen, gerne auch ausfuehrlich\n",
    "\n"
   ]
  },
  {
   "cell_type": "code",
   "execution_count": null,
   "metadata": {},
   "outputs": [],
   "source": []
  }
 ],
 "metadata": {
  "kernelspec": {
   "display_name": "pydidas_dev",
   "language": "python",
   "name": "python3"
  },
  "language_info": {
   "codemirror_mode": {
    "name": "ipython",
    "version": 3
   },
   "file_extension": ".py",
   "mimetype": "text/x-python",
   "name": "python",
   "nbconvert_exporter": "python",
   "pygments_lexer": "ipython3",
   "version": "3.11.8"
  }
 },
 "nbformat": 4,
 "nbformat_minor": 2
}
