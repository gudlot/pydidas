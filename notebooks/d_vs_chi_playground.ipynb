{
 "cells": [
  {
   "cell_type": "code",
   "execution_count": null,
   "metadata": {},
   "outputs": [],
   "source": [
    "# This file is part of pydidas.\n",
    "#\n",
    "# Copyright 2023 - 2024, Helmholtz-Zentrum Hereon\n",
    "# SPDX-License-Identifier: GPL-3.0-only\n",
    "#\n",
    "# pydidas is free software: you can redistribute it and/or modify\n",
    "# it under the terms of the GNU General Public License version 3 as\n",
    "# published by the Free Software Foundation.\n",
    "#\n",
    "# Pydidas is distributed in the hope that it will be useful,\n",
    "# but WITHOUT ANY WARRANTY; without even the implied warranty of\n",
    "# MERCHANTABILITY or FITNESS FOR A PARTICULAR PURPOSE. See the\n",
    "# GNU General Public License for more details.\n",
    "#\n",
    "# You should have received a copy of the GNU General Public License\n",
    "# along with Pydidas. If not, see <http://www.gnu.org/licenses/>.\n",
    "\n",
    "\"\"\"\n",
    "The dataset module includes the Dataset subclasses of numpy.ndarray with additional\n",
    "embedded metadata.\n",
    "\"\"\"\n",
    "\n",
    "__author__ = \"Gudrun Lotze\"\n",
    "__copyright__ = \"Copyright 2024, Helmholtz-Zentrum Hereon\"\n",
    "__license__ = \"GPL-3.0-only\"\n",
    "__maintainer__ = \"Malte Storm, Gudrun Lotze\"\n",
    "__status__ = \"Development\""
   ]
  },
  {
   "cell_type": "code",
   "execution_count": null,
   "metadata": {},
   "outputs": [],
   "source": []
  }
 ],
 "metadata": {
  "language_info": {
   "name": "python"
  }
 },
 "nbformat": 4,
 "nbformat_minor": 2
}
